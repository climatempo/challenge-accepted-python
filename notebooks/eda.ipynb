{
 "cells": [
  {
   "cell_type": "markdown",
   "metadata": {},
   "source": [
    "# Exploratory Analysis of netCDF4 Data\n",
    "\n",
    "This notebook aims to provide a basic understanding of netCDF4 files and their structure. Additionally, it visualizes the data contained within these files to gain insights into the key parameters and patterns they represent.\n",
    "\n",
    "##  Outline\n",
    "[0. Import Libraries](#import-libraries)<br>\n",
    "\n",
    "[I. Observation Dataset](#observation-dataset)<br>\n",
    "   &nbsp;&nbsp;&nbsp; [A. Load Data](#load-data)<br>\n",
    "   &nbsp;&nbsp;&nbsp; [B. Column Information](#column-information)<br>\n",
    "   &nbsp;&nbsp;&nbsp; [C. Time Variable Analysis](#time-variable-analysis)<br>\n",
    "   &nbsp;&nbsp;&nbsp; [D. Geospatial Analysis: Latitude and Longitude Insights](#geospatial-analysis)<br>\n",
    "   &nbsp;&nbsp;&nbsp; [E. Temperature Variable Analysis](#temperature-variable-analysis)<br>\n",
    "   &nbsp;&nbsp;&nbsp; [F. Creation of Observation Dataframe](#creation-of-observation-dataframe)<br>\n",
    "   &nbsp;&nbsp;&nbsp; [G. Close Data](#close-data)<br>\n",
    "\n",
    "[II. Forecast Dataset](#forecast-dataset)<br>\n",
    "   &nbsp;&nbsp;&nbsp; [A. Load Data](#forecast-load-data)<br>\n",
    "   &nbsp;&nbsp;&nbsp; [B. Column Information](#forecast-column-information)<br>\n",
    "   &nbsp;&nbsp;&nbsp; [C. Time Variable Analysis](#forecast-time-variable-analysis)<br>\n",
    "   &nbsp;&nbsp;&nbsp; [D. Geospatial Analysis: Latitude and Longitude Insights](#forecast-geospatial-analysis)<br>\n",
    "   &nbsp;&nbsp;&nbsp; [E. Temperature Variable Analysis](#forecast-temperature-variable-analysis)<br>\n",
    "   &nbsp;&nbsp;&nbsp; [F. Creation of Forecast Dataframe](#creation-forecast-dataframe)<br>\n",
    "   &nbsp;&nbsp;&nbsp; [G. Close Data](#close-data)<br>\n",
    "\n",
    "[III. Combined Dataframe Forecast and Observed](#combined-dataframe-forecast-and-observed)<br>\n",
    "   &nbsp;&nbsp;&nbsp; [A. Merge Dataframes](#merge-dataframes)<br>\n",
    "   &nbsp;&nbsp;&nbsp; [B. Calculate RSME](#calculate-root-mean-squared-error)<br>\n",
    "   &nbsp;&nbsp;&nbsp; [C. Visualizations](#visualizations)<br>\n",
    "   &nbsp;&nbsp;&nbsp; [D. Save Results](#save-results)<br>\n",
    "\n",
    "\n"
   ]
  },
  {
   "cell_type": "markdown",
   "metadata": {},
   "source": [
    "## Import libraries"
   ]
  },
  {
   "cell_type": "code",
   "execution_count": 1,
   "metadata": {},
   "outputs": [],
   "source": [
    "import pandas as pd\n",
    "import numpy as np\n",
    "import netCDF4 as nc\n",
    "from datetime import datetime, timedelta"
   ]
  },
  {
   "cell_type": "markdown",
   "metadata": {},
   "source": [
    "## Observation Dataset"
   ]
  },
  {
   "cell_type": "markdown",
   "metadata": {},
   "source": [
    "### Load Data"
   ]
  },
  {
   "cell_type": "markdown",
   "metadata": {},
   "source": [
    "Read file observation"
   ]
  },
  {
   "cell_type": "code",
   "execution_count": 2,
   "metadata": {},
   "outputs": [],
   "source": [
    "file_name = \"../data/observation.nc\"\n",
    "observations = nc.Dataset(file_name, \"r\", format=\"NETCDF4\")"
   ]
  },
  {
   "cell_type": "markdown",
   "metadata": {},
   "source": [
    "### Column Information"
   ]
  },
  {
   "cell_type": "markdown",
   "metadata": {},
   "source": [
    "There are 4 different columns. Time, Longitude, Latitude and Temperature"
   ]
  },
  {
   "cell_type": "code",
   "execution_count": 3,
   "metadata": {},
   "outputs": [
    {
     "data": {
      "text/plain": [
       "dict_keys(['time', 'lon', 'lat', 'temperatura'])"
      ]
     },
     "execution_count": 3,
     "metadata": {},
     "output_type": "execute_result"
    }
   ],
   "source": [
    "columns = observations.variables.keys()\n",
    "columns"
   ]
  },
  {
   "cell_type": "markdown",
   "metadata": {},
   "source": [
    "### Time Variable Analysis"
   ]
  },
  {
   "cell_type": "code",
   "execution_count": 4,
   "metadata": {},
   "outputs": [
    {
     "data": {
      "text/plain": [
       "masked_array(data=[24., 25., 26., 27., 28., 29., 30., 31., 32., 33.],\n",
       "             mask=False,\n",
       "       fill_value=1e+20,\n",
       "            dtype=float32)"
      ]
     },
     "execution_count": 4,
     "metadata": {},
     "output_type": "execute_result"
    }
   ],
   "source": [
    "observations.variables[\"time\"][:10]"
   ]
  },
  {
   "cell_type": "code",
   "execution_count": 5,
   "metadata": {},
   "outputs": [
    {
     "data": {
      "text/plain": [
       "array([24., 25., 26., 27., 28., 29., 30., 31., 32., 33.], dtype=float32)"
      ]
     },
     "execution_count": 5,
     "metadata": {},
     "output_type": "execute_result"
    }
   ],
   "source": [
    "observations.variables[\"time\"][:10].data"
   ]
  },
  {
   "cell_type": "markdown",
   "metadata": {},
   "source": [
    "According to documentation for the repo, the time of reference is 2018/04/14.\n",
    "\n",
    "Also, time is hourly.\n",
    "\n",
    "Starting time for the data is 2018-04-15 00:00:00"
   ]
  },
  {
   "cell_type": "code",
   "execution_count": 6,
   "metadata": {},
   "outputs": [
    {
     "data": {
      "text/plain": [
       "Timestamp('2018-04-15 00:00:00')"
      ]
     },
     "execution_count": 6,
     "metadata": {},
     "output_type": "execute_result"
    }
   ],
   "source": [
    "pd.Timedelta(hours=observations.variables[\"time\"][:].data[0])+ pd.Timestamp(\"2018-04-14\")"
   ]
  },
  {
   "cell_type": "markdown",
   "metadata": {},
   "source": [
    "Ending time is '2018-04-17 23:00:00'"
   ]
  },
  {
   "cell_type": "code",
   "execution_count": 7,
   "metadata": {},
   "outputs": [
    {
     "data": {
      "text/plain": [
       "Timestamp('2018-04-17 23:00:00')"
      ]
     },
     "execution_count": 7,
     "metadata": {},
     "output_type": "execute_result"
    }
   ],
   "source": [
    "pd.Timedelta(hours=observations.variables[\"time\"][:].data[-1])+ pd.Timestamp(\"2018-04-14\")"
   ]
  },
  {
   "cell_type": "markdown",
   "metadata": {},
   "source": [
    "Check if there are missing data times"
   ]
  },
  {
   "cell_type": "code",
   "execution_count": 8,
   "metadata": {},
   "outputs": [
    {
     "data": {
      "text/plain": [
       "True"
      ]
     },
     "execution_count": 8,
     "metadata": {},
     "output_type": "execute_result"
    }
   ],
   "source": [
    "len(observations.variables[\"time\"][:].data[:]) == (observations.variables[\"time\"][:].data[-1]-observations.variables[\"time\"][:].data[0]+1)"
   ]
  },
  {
   "cell_type": "code",
   "execution_count": 9,
   "metadata": {},
   "outputs": [
    {
     "data": {
      "text/plain": [
       "[24, 25, 26, 27, 28, 29, 30, 31, 32, 33]"
      ]
     },
     "execution_count": 9,
     "metadata": {},
     "output_type": "execute_result"
    }
   ],
   "source": [
    "num_hours = observations.variables[\"time\"][:].data[:]\n",
    "# change it to int\n",
    "num_hours = [int(i) for i in num_hours]\n",
    "num_hours[:10]"
   ]
  },
  {
   "cell_type": "markdown",
   "metadata": {},
   "source": [
    "Create a list of datetime values"
   ]
  },
  {
   "cell_type": "code",
   "execution_count": 10,
   "metadata": {},
   "outputs": [
    {
     "data": {
      "text/plain": [
       "[datetime.datetime(2018, 4, 15, 0, 0), datetime.datetime(2018, 4, 15, 1, 0)]"
      ]
     },
     "execution_count": 10,
     "metadata": {},
     "output_type": "execute_result"
    }
   ],
   "source": [
    "start_date = \"2018-04-14\"\n",
    "date_list = [datetime.strptime(start_date, '%Y-%m-%d') + timedelta(hours=i) for i in num_hours]\n",
    "date_list[:2]"
   ]
  },
  {
   "cell_type": "markdown",
   "metadata": {},
   "source": [
    "### Geospatial Analysis"
   ]
  },
  {
   "cell_type": "markdown",
   "metadata": {},
   "source": [
    "According to the information for the repo, SP corresponds to latitude is 8 and the longitude is 26. (Latitude -23.5489 e Longitude -46.6388)"
   ]
  },
  {
   "cell_type": "code",
   "execution_count": 11,
   "metadata": {},
   "outputs": [
    {
     "data": {
      "text/plain": [
       "array(-23.52493, dtype=float32)"
      ]
     },
     "execution_count": 11,
     "metadata": {},
     "output_type": "execute_result"
    }
   ],
   "source": [
    "observations.variables[\"lat\"][8].data"
   ]
  },
  {
   "cell_type": "code",
   "execution_count": 12,
   "metadata": {},
   "outputs": [
    {
     "data": {
      "text/plain": [
       "array(-46.6783, dtype=float32)"
      ]
     },
     "execution_count": 12,
     "metadata": {},
     "output_type": "execute_result"
    }
   ],
   "source": [
    "observations.variables[\"lon\"][26].data"
   ]
  },
  {
   "cell_type": "markdown",
   "metadata": {},
   "source": [
    "### Temperature Variable Analysis"
   ]
  },
  {
   "cell_type": "markdown",
   "metadata": {},
   "source": [
    "Check temperature for first hour. Temperature is in celsius but forecasted is in Kelvin. "
   ]
  },
  {
   "cell_type": "code",
   "execution_count": 13,
   "metadata": {},
   "outputs": [
    {
     "data": {
      "text/plain": [
       "21.164131"
      ]
     },
     "execution_count": 13,
     "metadata": {},
     "output_type": "execute_result"
    }
   ],
   "source": [
    "observations.variables[\"temperatura\"][0].data[8, 26]"
   ]
  },
  {
   "cell_type": "code",
   "execution_count": 14,
   "metadata": {},
   "outputs": [],
   "source": [
    "y = []\n",
    "for i in range(len(observations.variables[\"temperatura\"])):\n",
    "    y.append(observations.variables[\"temperatura\"][i].data[8, 26])"
   ]
  },
  {
   "cell_type": "code",
   "execution_count": 15,
   "metadata": {},
   "outputs": [
    {
     "data": {
      "text/plain": [
       "[21.164131,\n",
       " 20.641735,\n",
       " 20.193924,\n",
       " 20.087553,\n",
       " 19.857996,\n",
       " 19.709826,\n",
       " 19.46206,\n",
       " 19.19653,\n",
       " 19.221806,\n",
       " 19.103395]"
      ]
     },
     "execution_count": 15,
     "metadata": {},
     "output_type": "execute_result"
    }
   ],
   "source": [
    "y[:10]"
   ]
  },
  {
   "cell_type": "markdown",
   "metadata": {},
   "source": [
    "#### Change units"
   ]
  },
  {
   "cell_type": "markdown",
   "metadata": {},
   "source": [
    "Temperature is in celsius but forecasted is in Kelvin. "
   ]
  },
  {
   "cell_type": "code",
   "execution_count": 16,
   "metadata": {},
   "outputs": [],
   "source": [
    "def celsius_to_kelvin(celsius):\n",
    "    \"\"\"\n",
    "    Convert temperature in Celsius to Kelvin.\n",
    "\n",
    "    Parameters:\n",
    "    celsius (float): Temperature in Celsius.\n",
    "\n",
    "    Returns:\n",
    "    float: Temperature in Kelvin.\n",
    "    \"\"\"\n",
    "    kelvin = celsius + 273.15\n",
    "    return kelvin"
   ]
  },
  {
   "cell_type": "code",
   "execution_count": 17,
   "metadata": {},
   "outputs": [],
   "source": [
    "y_K = [celsius_to_kelvin(celsius) for celsius in y]"
   ]
  },
  {
   "cell_type": "markdown",
   "metadata": {},
   "source": [
    "### Creation of Observation Dataframe"
   ]
  },
  {
   "cell_type": "code",
   "execution_count": 18,
   "metadata": {},
   "outputs": [],
   "source": [
    "obs = pd.DataFrame(y_K, index=date_list, columns=[\"y\"])"
   ]
  },
  {
   "cell_type": "code",
   "execution_count": 19,
   "metadata": {},
   "outputs": [
    {
     "data": {
      "text/html": [
       "<div>\n",
       "<style scoped>\n",
       "    .dataframe tbody tr th:only-of-type {\n",
       "        vertical-align: middle;\n",
       "    }\n",
       "\n",
       "    .dataframe tbody tr th {\n",
       "        vertical-align: top;\n",
       "    }\n",
       "\n",
       "    .dataframe thead th {\n",
       "        text-align: right;\n",
       "    }\n",
       "</style>\n",
       "<table border=\"1\" class=\"dataframe\">\n",
       "  <thead>\n",
       "    <tr style=\"text-align: right;\">\n",
       "      <th></th>\n",
       "      <th>y</th>\n",
       "    </tr>\n",
       "  </thead>\n",
       "  <tbody>\n",
       "    <tr>\n",
       "      <th>2018-04-15 00:00:00</th>\n",
       "      <td>294.314131</td>\n",
       "    </tr>\n",
       "    <tr>\n",
       "      <th>2018-04-15 01:00:00</th>\n",
       "      <td>293.791735</td>\n",
       "    </tr>\n",
       "    <tr>\n",
       "      <th>2018-04-15 02:00:00</th>\n",
       "      <td>293.343924</td>\n",
       "    </tr>\n",
       "    <tr>\n",
       "      <th>2018-04-15 03:00:00</th>\n",
       "      <td>293.237553</td>\n",
       "    </tr>\n",
       "    <tr>\n",
       "      <th>2018-04-15 04:00:00</th>\n",
       "      <td>293.007996</td>\n",
       "    </tr>\n",
       "  </tbody>\n",
       "</table>\n",
       "</div>"
      ],
      "text/plain": [
       "                              y\n",
       "2018-04-15 00:00:00  294.314131\n",
       "2018-04-15 01:00:00  293.791735\n",
       "2018-04-15 02:00:00  293.343924\n",
       "2018-04-15 03:00:00  293.237553\n",
       "2018-04-15 04:00:00  293.007996"
      ]
     },
     "execution_count": 19,
     "metadata": {},
     "output_type": "execute_result"
    }
   ],
   "source": [
    "obs.head()"
   ]
  },
  {
   "cell_type": "code",
   "execution_count": 20,
   "metadata": {},
   "outputs": [
    {
     "data": {
      "text/html": [
       "<div>\n",
       "<style scoped>\n",
       "    .dataframe tbody tr th:only-of-type {\n",
       "        vertical-align: middle;\n",
       "    }\n",
       "\n",
       "    .dataframe tbody tr th {\n",
       "        vertical-align: top;\n",
       "    }\n",
       "\n",
       "    .dataframe thead th {\n",
       "        text-align: right;\n",
       "    }\n",
       "</style>\n",
       "<table border=\"1\" class=\"dataframe\">\n",
       "  <thead>\n",
       "    <tr style=\"text-align: right;\">\n",
       "      <th></th>\n",
       "      <th>y</th>\n",
       "    </tr>\n",
       "  </thead>\n",
       "  <tbody>\n",
       "    <tr>\n",
       "      <th>count</th>\n",
       "      <td>72.000000</td>\n",
       "    </tr>\n",
       "    <tr>\n",
       "      <th>mean</th>\n",
       "      <td>292.838371</td>\n",
       "    </tr>\n",
       "    <tr>\n",
       "      <th>std</th>\n",
       "      <td>1.941994</td>\n",
       "    </tr>\n",
       "    <tr>\n",
       "      <th>min</th>\n",
       "      <td>290.094355</td>\n",
       "    </tr>\n",
       "    <tr>\n",
       "      <th>25%</th>\n",
       "      <td>291.722447</td>\n",
       "    </tr>\n",
       "    <tr>\n",
       "      <th>50%</th>\n",
       "      <td>292.554328</td>\n",
       "    </tr>\n",
       "    <tr>\n",
       "      <th>75%</th>\n",
       "      <td>293.379922</td>\n",
       "    </tr>\n",
       "    <tr>\n",
       "      <th>max</th>\n",
       "      <td>298.387343</td>\n",
       "    </tr>\n",
       "  </tbody>\n",
       "</table>\n",
       "</div>"
      ],
      "text/plain": [
       "                y\n",
       "count   72.000000\n",
       "mean   292.838371\n",
       "std      1.941994\n",
       "min    290.094355\n",
       "25%    291.722447\n",
       "50%    292.554328\n",
       "75%    293.379922\n",
       "max    298.387343"
      ]
     },
     "execution_count": 20,
     "metadata": {},
     "output_type": "execute_result"
    }
   ],
   "source": [
    "obs.describe()"
   ]
  },
  {
   "cell_type": "markdown",
   "metadata": {},
   "source": [
    "### Close Data"
   ]
  },
  {
   "cell_type": "code",
   "execution_count": 21,
   "metadata": {},
   "outputs": [],
   "source": [
    "observations.close()"
   ]
  },
  {
   "cell_type": "markdown",
   "metadata": {},
   "source": [
    "## Forecast Dataset"
   ]
  },
  {
   "cell_type": "markdown",
   "metadata": {},
   "source": [
    "### Load Data"
   ]
  },
  {
   "cell_type": "markdown",
   "metadata": {},
   "source": [
    "Read file observation"
   ]
  },
  {
   "cell_type": "code",
   "execution_count": 22,
   "metadata": {},
   "outputs": [],
   "source": [
    "file_name = \"../data/forecast.nc\"\n",
    "forecast = nc.Dataset(file_name, \"r\", format=\"NETCDF4\")"
   ]
  },
  {
   "cell_type": "markdown",
   "metadata": {},
   "source": [
    "### Column Information"
   ]
  },
  {
   "cell_type": "markdown",
   "metadata": {},
   "source": [
    "There are 4 different columns. Time, Longitude, Latitude and Temperature (t2m)\n",
    "-> Observation and Forecast have different names for temperature"
   ]
  },
  {
   "cell_type": "code",
   "execution_count": 23,
   "metadata": {},
   "outputs": [
    {
     "data": {
      "text/plain": [
       "dict_keys(['lat', 'lon', 'time', 't2m'])"
      ]
     },
     "execution_count": 23,
     "metadata": {},
     "output_type": "execute_result"
    }
   ],
   "source": [
    "columns = forecast.variables.keys()\n",
    "columns"
   ]
  },
  {
   "cell_type": "markdown",
   "metadata": {},
   "source": [
    "### Time Variable Analysis"
   ]
  },
  {
   "cell_type": "code",
   "execution_count": 24,
   "metadata": {},
   "outputs": [
    {
     "data": {
      "text/plain": [
       "array([0., 1., 2., 3., 4., 5., 6., 7., 8., 9.], dtype=float32)"
      ]
     },
     "execution_count": 24,
     "metadata": {},
     "output_type": "execute_result"
    }
   ],
   "source": [
    "forecast.variables[\"time\"][:10].data"
   ]
  },
  {
   "cell_type": "markdown",
   "metadata": {},
   "source": [
    "According to documentation for the repo, the time of reference is 2018/04/14.\n",
    "\n",
    "Also, time is hourly.\n",
    "\n",
    "Starting time for the data is 2018-04-14 00:00:00"
   ]
  },
  {
   "cell_type": "code",
   "execution_count": 25,
   "metadata": {},
   "outputs": [
    {
     "data": {
      "text/plain": [
       "Timestamp('2018-04-14 00:00:00')"
      ]
     },
     "execution_count": 25,
     "metadata": {},
     "output_type": "execute_result"
    }
   ],
   "source": [
    "pd.Timedelta(hours=forecast.variables[\"time\"][:].data[0])+ pd.Timestamp(\"2018-04-14\")"
   ]
  },
  {
   "cell_type": "markdown",
   "metadata": {},
   "source": [
    "Ending time is '2018-04-16 23:00:00'"
   ]
  },
  {
   "cell_type": "code",
   "execution_count": 26,
   "metadata": {},
   "outputs": [
    {
     "data": {
      "text/plain": [
       "Timestamp('2018-04-16 23:00:00')"
      ]
     },
     "execution_count": 26,
     "metadata": {},
     "output_type": "execute_result"
    }
   ],
   "source": [
    "pd.Timedelta(hours=forecast.variables[\"time\"][:].data[-1])+ pd.Timestamp(\"2018-04-14\")"
   ]
  },
  {
   "cell_type": "markdown",
   "metadata": {},
   "source": [
    "Data from Observation and Forecast represent differ. Forecast starts a day earlier and ends a day earlier."
   ]
  },
  {
   "cell_type": "markdown",
   "metadata": {},
   "source": [
    "#### Check if there are missing data times"
   ]
  },
  {
   "cell_type": "code",
   "execution_count": 27,
   "metadata": {},
   "outputs": [
    {
     "data": {
      "text/plain": [
       "True"
      ]
     },
     "execution_count": 27,
     "metadata": {},
     "output_type": "execute_result"
    }
   ],
   "source": [
    "len(forecast.variables[\"time\"][:].data[:]) == (forecast.variables[\"time\"][:].data[-1]-forecast.variables[\"time\"][:].data[0]+1)"
   ]
  },
  {
   "cell_type": "code",
   "execution_count": 28,
   "metadata": {},
   "outputs": [
    {
     "data": {
      "text/plain": [
       "[0, 1, 2, 3, 4, 5, 6, 7, 8, 9]"
      ]
     },
     "execution_count": 28,
     "metadata": {},
     "output_type": "execute_result"
    }
   ],
   "source": [
    "num_hours = forecast.variables[\"time\"][:].data[:]\n",
    "# change it to int\n",
    "num_hours = [int(i) for i in num_hours]\n",
    "num_hours[:10]"
   ]
  },
  {
   "cell_type": "markdown",
   "metadata": {},
   "source": [
    "#### Create a list of datetime values"
   ]
  },
  {
   "cell_type": "code",
   "execution_count": 29,
   "metadata": {},
   "outputs": [
    {
     "data": {
      "text/plain": [
       "[datetime.datetime(2018, 4, 14, 0, 0), datetime.datetime(2018, 4, 14, 1, 0)]"
      ]
     },
     "execution_count": 29,
     "metadata": {},
     "output_type": "execute_result"
    }
   ],
   "source": [
    "start_date = \"2018-04-14\"\n",
    "date_list = [datetime.strptime(start_date, '%Y-%m-%d') + timedelta(hours=i) for i in num_hours]\n",
    "date_list[:2]"
   ]
  },
  {
   "cell_type": "markdown",
   "metadata": {},
   "source": [
    "### Geospatial Analysis"
   ]
  },
  {
   "cell_type": "markdown",
   "metadata": {},
   "source": [
    "According to the information for the repo, SP corresponds to latitude is 8 and the longitude is 26. (Latitude -23.5489 e Longitude -46.6388)"
   ]
  },
  {
   "cell_type": "code",
   "execution_count": 30,
   "metadata": {},
   "outputs": [
    {
     "data": {
      "text/plain": [
       "array(-23.524933, dtype=float32)"
      ]
     },
     "execution_count": 30,
     "metadata": {},
     "output_type": "execute_result"
    }
   ],
   "source": [
    "forecast.variables[\"lat\"][8].data"
   ]
  },
  {
   "cell_type": "code",
   "execution_count": 31,
   "metadata": {},
   "outputs": [
    {
     "data": {
      "text/plain": [
       "array(-46.6783, dtype=float32)"
      ]
     },
     "execution_count": 31,
     "metadata": {},
     "output_type": "execute_result"
    }
   ],
   "source": [
    "forecast.variables[\"lon\"][26].data"
   ]
  },
  {
   "cell_type": "markdown",
   "metadata": {},
   "source": [
    "### Temperature Variable Analysis"
   ]
  },
  {
   "cell_type": "markdown",
   "metadata": {},
   "source": [
    "Check temperature for first hour. Temperature is in celsius but forecasted is in Kelvin. "
   ]
  },
  {
   "cell_type": "code",
   "execution_count": 33,
   "metadata": {},
   "outputs": [
    {
     "name": "stderr",
     "output_type": "stream",
     "text": [
      "/var/folders/41/c6rc607d4ns7r7h72ycqgkn00000gn/T/ipykernel_37723/382542684.py:1: UserWarning: WARNING: missing_value not used since it\n",
      "cannot be safely cast to variable data type\n",
      "  forecast.variables[\"t2m\"][0].data[8,26]\n"
     ]
    },
    {
     "data": {
      "text/plain": [
       "294.6625"
      ]
     },
     "execution_count": 33,
     "metadata": {},
     "output_type": "execute_result"
    }
   ],
   "source": [
    "forecast.variables[\"t2m\"][0].data[8,26]"
   ]
  },
  {
   "cell_type": "code",
   "execution_count": 34,
   "metadata": {},
   "outputs": [
    {
     "name": "stderr",
     "output_type": "stream",
     "text": [
      "/var/folders/41/c6rc607d4ns7r7h72ycqgkn00000gn/T/ipykernel_37723/1459715318.py:3: UserWarning: WARNING: missing_value not used since it\n",
      "cannot be safely cast to variable data type\n",
      "  y.append(forecast.variables[\"t2m\"][i].data[8, 26])\n"
     ]
    }
   ],
   "source": [
    "y = []\n",
    "for i in range(len(forecast.variables[\"t2m\"])):\n",
    "    y.append(forecast.variables[\"t2m\"][i].data[8, 26])"
   ]
  },
  {
   "cell_type": "code",
   "execution_count": 35,
   "metadata": {},
   "outputs": [
    {
     "data": {
      "text/plain": [
       "[294.6625,\n",
       " 293.97592,\n",
       " 293.43875,\n",
       " 293.16208,\n",
       " 292.92062,\n",
       " 292.68222,\n",
       " 292.4611,\n",
       " 292.28635,\n",
       " 292.06927,\n",
       " 291.84454]"
      ]
     },
     "execution_count": 35,
     "metadata": {},
     "output_type": "execute_result"
    }
   ],
   "source": [
    "y[:10]"
   ]
  },
  {
   "cell_type": "markdown",
   "metadata": {},
   "source": [
    "### Creation of Observation Dataframe"
   ]
  },
  {
   "cell_type": "code",
   "execution_count": 36,
   "metadata": {},
   "outputs": [],
   "source": [
    "pred = pd.DataFrame(y, index=date_list, columns=[\"pred\"])"
   ]
  },
  {
   "cell_type": "code",
   "execution_count": 37,
   "metadata": {},
   "outputs": [
    {
     "data": {
      "text/html": [
       "<div>\n",
       "<style scoped>\n",
       "    .dataframe tbody tr th:only-of-type {\n",
       "        vertical-align: middle;\n",
       "    }\n",
       "\n",
       "    .dataframe tbody tr th {\n",
       "        vertical-align: top;\n",
       "    }\n",
       "\n",
       "    .dataframe thead th {\n",
       "        text-align: right;\n",
       "    }\n",
       "</style>\n",
       "<table border=\"1\" class=\"dataframe\">\n",
       "  <thead>\n",
       "    <tr style=\"text-align: right;\">\n",
       "      <th></th>\n",
       "      <th>pred</th>\n",
       "    </tr>\n",
       "  </thead>\n",
       "  <tbody>\n",
       "    <tr>\n",
       "      <th>2018-04-14 00:00:00</th>\n",
       "      <td>294.662506</td>\n",
       "    </tr>\n",
       "    <tr>\n",
       "      <th>2018-04-14 01:00:00</th>\n",
       "      <td>293.975922</td>\n",
       "    </tr>\n",
       "    <tr>\n",
       "      <th>2018-04-14 02:00:00</th>\n",
       "      <td>293.438751</td>\n",
       "    </tr>\n",
       "    <tr>\n",
       "      <th>2018-04-14 03:00:00</th>\n",
       "      <td>293.162079</td>\n",
       "    </tr>\n",
       "    <tr>\n",
       "      <th>2018-04-14 04:00:00</th>\n",
       "      <td>292.920624</td>\n",
       "    </tr>\n",
       "  </tbody>\n",
       "</table>\n",
       "</div>"
      ],
      "text/plain": [
       "                           pred\n",
       "2018-04-14 00:00:00  294.662506\n",
       "2018-04-14 01:00:00  293.975922\n",
       "2018-04-14 02:00:00  293.438751\n",
       "2018-04-14 03:00:00  293.162079\n",
       "2018-04-14 04:00:00  292.920624"
      ]
     },
     "execution_count": 37,
     "metadata": {},
     "output_type": "execute_result"
    }
   ],
   "source": [
    "pred.head()"
   ]
  },
  {
   "cell_type": "code",
   "execution_count": 38,
   "metadata": {},
   "outputs": [
    {
     "data": {
      "text/html": [
       "<div>\n",
       "<style scoped>\n",
       "    .dataframe tbody tr th:only-of-type {\n",
       "        vertical-align: middle;\n",
       "    }\n",
       "\n",
       "    .dataframe tbody tr th {\n",
       "        vertical-align: top;\n",
       "    }\n",
       "\n",
       "    .dataframe thead th {\n",
       "        text-align: right;\n",
       "    }\n",
       "</style>\n",
       "<table border=\"1\" class=\"dataframe\">\n",
       "  <thead>\n",
       "    <tr style=\"text-align: right;\">\n",
       "      <th></th>\n",
       "      <th>pred</th>\n",
       "    </tr>\n",
       "  </thead>\n",
       "  <tbody>\n",
       "    <tr>\n",
       "      <th>count</th>\n",
       "      <td>72.000000</td>\n",
       "    </tr>\n",
       "    <tr>\n",
       "      <th>mean</th>\n",
       "      <td>292.744141</td>\n",
       "    </tr>\n",
       "    <tr>\n",
       "      <th>std</th>\n",
       "      <td>1.909311</td>\n",
       "    </tr>\n",
       "    <tr>\n",
       "      <th>min</th>\n",
       "      <td>290.449249</td>\n",
       "    </tr>\n",
       "    <tr>\n",
       "      <th>25%</th>\n",
       "      <td>291.426132</td>\n",
       "    </tr>\n",
       "    <tr>\n",
       "      <th>50%</th>\n",
       "      <td>292.215424</td>\n",
       "    </tr>\n",
       "    <tr>\n",
       "      <th>75%</th>\n",
       "      <td>293.363579</td>\n",
       "    </tr>\n",
       "    <tr>\n",
       "      <th>max</th>\n",
       "      <td>298.283081</td>\n",
       "    </tr>\n",
       "  </tbody>\n",
       "</table>\n",
       "</div>"
      ],
      "text/plain": [
       "             pred\n",
       "count   72.000000\n",
       "mean   292.744141\n",
       "std      1.909311\n",
       "min    290.449249\n",
       "25%    291.426132\n",
       "50%    292.215424\n",
       "75%    293.363579\n",
       "max    298.283081"
      ]
     },
     "execution_count": 38,
     "metadata": {},
     "output_type": "execute_result"
    }
   ],
   "source": [
    "pred.describe()"
   ]
  },
  {
   "cell_type": "markdown",
   "metadata": {},
   "source": [
    "### Close Data"
   ]
  },
  {
   "cell_type": "code",
   "execution_count": 39,
   "metadata": {},
   "outputs": [],
   "source": [
    "observations.close()"
   ]
  },
  {
   "cell_type": "markdown",
   "metadata": {},
   "source": [
    "## Combined Dataframe Forecast and Observed"
   ]
  },
  {
   "cell_type": "markdown",
   "metadata": {},
   "source": [
    "### Merge Dataframes"
   ]
  },
  {
   "cell_type": "code",
   "execution_count": 71,
   "metadata": {},
   "outputs": [
    {
     "data": {
      "text/html": [
       "<div>\n",
       "<style scoped>\n",
       "    .dataframe tbody tr th:only-of-type {\n",
       "        vertical-align: middle;\n",
       "    }\n",
       "\n",
       "    .dataframe tbody tr th {\n",
       "        vertical-align: top;\n",
       "    }\n",
       "\n",
       "    .dataframe thead th {\n",
       "        text-align: right;\n",
       "    }\n",
       "</style>\n",
       "<table border=\"1\" class=\"dataframe\">\n",
       "  <thead>\n",
       "    <tr style=\"text-align: right;\">\n",
       "      <th></th>\n",
       "      <th>y</th>\n",
       "      <th>pred</th>\n",
       "    </tr>\n",
       "  </thead>\n",
       "  <tbody>\n",
       "    <tr>\n",
       "      <th>2018-04-15 00:00:00</th>\n",
       "      <td>294.314131</td>\n",
       "      <td>291.942139</td>\n",
       "    </tr>\n",
       "    <tr>\n",
       "      <th>2018-04-15 01:00:00</th>\n",
       "      <td>293.791735</td>\n",
       "      <td>291.721344</td>\n",
       "    </tr>\n",
       "    <tr>\n",
       "      <th>2018-04-15 02:00:00</th>\n",
       "      <td>293.343924</td>\n",
       "      <td>291.556061</td>\n",
       "    </tr>\n",
       "    <tr>\n",
       "      <th>2018-04-15 03:00:00</th>\n",
       "      <td>293.237553</td>\n",
       "      <td>291.436493</td>\n",
       "    </tr>\n",
       "    <tr>\n",
       "      <th>2018-04-15 04:00:00</th>\n",
       "      <td>293.007996</td>\n",
       "      <td>291.353394</td>\n",
       "    </tr>\n",
       "  </tbody>\n",
       "</table>\n",
       "</div>"
      ],
      "text/plain": [
       "                              y        pred\n",
       "2018-04-15 00:00:00  294.314131  291.942139\n",
       "2018-04-15 01:00:00  293.791735  291.721344\n",
       "2018-04-15 02:00:00  293.343924  291.556061\n",
       "2018-04-15 03:00:00  293.237553  291.436493\n",
       "2018-04-15 04:00:00  293.007996  291.353394"
      ]
     },
     "execution_count": 71,
     "metadata": {},
     "output_type": "execute_result"
    }
   ],
   "source": [
    "df = pd.merge(obs, pred, left_index=True, right_index=True)\n",
    "df.head()"
   ]
  },
  {
   "cell_type": "markdown",
   "metadata": {},
   "source": [
    "### Calculate Root Mean Squared Error"
   ]
  },
  {
   "cell_type": "code",
   "execution_count": 66,
   "metadata": {},
   "outputs": [],
   "source": [
    "def rse(df, y_col = \"y\", pred_col = \"pred\"):\n",
    "    \"\"\"\n",
    "    Calculate the root squared error for every row in a dataframe.\n",
    "\n",
    "    Parameters:\n",
    "    df (pandas.DataFrame): Dataframe with columns y and pred.\n",
    "\n",
    "    Returns:\n",
    "    pandas.Series: Root squared error for every row in the dataframe.\n",
    "    \"\"\"\n",
    "    return np.sqrt(((df[y_col] - df[pred_col]) ** 2))"
   ]
  },
  {
   "cell_type": "code",
   "execution_count": 72,
   "metadata": {},
   "outputs": [
    {
     "data": {
      "text/plain": [
       "Index(['y', 'pred'], dtype='object')"
      ]
     },
     "execution_count": 72,
     "metadata": {},
     "output_type": "execute_result"
    }
   ],
   "source": [
    "df.columns"
   ]
  },
  {
   "cell_type": "code",
   "execution_count": 73,
   "metadata": {},
   "outputs": [],
   "source": [
    "df[\"error\"] = rse(df,\"y\",\"pred\")"
   ]
  },
  {
   "cell_type": "code",
   "execution_count": 74,
   "metadata": {},
   "outputs": [
    {
     "data": {
      "text/html": [
       "<div>\n",
       "<style scoped>\n",
       "    .dataframe tbody tr th:only-of-type {\n",
       "        vertical-align: middle;\n",
       "    }\n",
       "\n",
       "    .dataframe tbody tr th {\n",
       "        vertical-align: top;\n",
       "    }\n",
       "\n",
       "    .dataframe thead th {\n",
       "        text-align: right;\n",
       "    }\n",
       "</style>\n",
       "<table border=\"1\" class=\"dataframe\">\n",
       "  <thead>\n",
       "    <tr style=\"text-align: right;\">\n",
       "      <th></th>\n",
       "      <th>y</th>\n",
       "      <th>pred</th>\n",
       "      <th>error</th>\n",
       "    </tr>\n",
       "  </thead>\n",
       "  <tbody>\n",
       "    <tr>\n",
       "      <th>2018-04-15 00:00:00</th>\n",
       "      <td>294.314131</td>\n",
       "      <td>291.942139</td>\n",
       "      <td>2.371992</td>\n",
       "    </tr>\n",
       "    <tr>\n",
       "      <th>2018-04-15 01:00:00</th>\n",
       "      <td>293.791735</td>\n",
       "      <td>291.721344</td>\n",
       "      <td>2.070391</td>\n",
       "    </tr>\n",
       "    <tr>\n",
       "      <th>2018-04-15 02:00:00</th>\n",
       "      <td>293.343924</td>\n",
       "      <td>291.556061</td>\n",
       "      <td>1.787863</td>\n",
       "    </tr>\n",
       "    <tr>\n",
       "      <th>2018-04-15 03:00:00</th>\n",
       "      <td>293.237553</td>\n",
       "      <td>291.436493</td>\n",
       "      <td>1.801060</td>\n",
       "    </tr>\n",
       "    <tr>\n",
       "      <th>2018-04-15 04:00:00</th>\n",
       "      <td>293.007996</td>\n",
       "      <td>291.353394</td>\n",
       "      <td>1.654602</td>\n",
       "    </tr>\n",
       "  </tbody>\n",
       "</table>\n",
       "</div>"
      ],
      "text/plain": [
       "                              y        pred     error\n",
       "2018-04-15 00:00:00  294.314131  291.942139  2.371992\n",
       "2018-04-15 01:00:00  293.791735  291.721344  2.070391\n",
       "2018-04-15 02:00:00  293.343924  291.556061  1.787863\n",
       "2018-04-15 03:00:00  293.237553  291.436493  1.801060\n",
       "2018-04-15 04:00:00  293.007996  291.353394  1.654602"
      ]
     },
     "execution_count": 74,
     "metadata": {},
     "output_type": "execute_result"
    }
   ],
   "source": [
    "df.head()"
   ]
  },
  {
   "cell_type": "code",
   "execution_count": 81,
   "metadata": {},
   "outputs": [],
   "source": [
    "# calculate the root mean squared error for every 6 hours period\n",
    "rsme_6hrs = df[\"error\"].resample(\"6H\").mean()"
   ]
  },
  {
   "cell_type": "code",
   "execution_count": 87,
   "metadata": {},
   "outputs": [],
   "source": [
    "rsme_6hrs = rsme_6hrs.reset_index()"
   ]
  },
  {
   "cell_type": "code",
   "execution_count": 89,
   "metadata": {},
   "outputs": [
    {
     "data": {
      "text/html": [
       "<div>\n",
       "<style scoped>\n",
       "    .dataframe tbody tr th:only-of-type {\n",
       "        vertical-align: middle;\n",
       "    }\n",
       "\n",
       "    .dataframe tbody tr th {\n",
       "        vertical-align: top;\n",
       "    }\n",
       "\n",
       "    .dataframe thead th {\n",
       "        text-align: right;\n",
       "    }\n",
       "</style>\n",
       "<table border=\"1\" class=\"dataframe\">\n",
       "  <thead>\n",
       "    <tr style=\"text-align: right;\">\n",
       "      <th></th>\n",
       "      <th>time</th>\n",
       "      <th>rsme</th>\n",
       "    </tr>\n",
       "  </thead>\n",
       "  <tbody>\n",
       "    <tr>\n",
       "      <th>0</th>\n",
       "      <td>2018-04-15 00:00:00</td>\n",
       "      <td>1.866524</td>\n",
       "    </tr>\n",
       "    <tr>\n",
       "      <th>1</th>\n",
       "      <td>2018-04-15 06:00:00</td>\n",
       "      <td>1.013207</td>\n",
       "    </tr>\n",
       "    <tr>\n",
       "      <th>2</th>\n",
       "      <td>2018-04-15 12:00:00</td>\n",
       "      <td>4.171756</td>\n",
       "    </tr>\n",
       "    <tr>\n",
       "      <th>3</th>\n",
       "      <td>2018-04-15 18:00:00</td>\n",
       "      <td>2.980368</td>\n",
       "    </tr>\n",
       "    <tr>\n",
       "      <th>4</th>\n",
       "      <td>2018-04-16 00:00:00</td>\n",
       "      <td>1.880864</td>\n",
       "    </tr>\n",
       "  </tbody>\n",
       "</table>\n",
       "</div>"
      ],
      "text/plain": [
       "                 time      rsme\n",
       "0 2018-04-15 00:00:00  1.866524\n",
       "1 2018-04-15 06:00:00  1.013207\n",
       "2 2018-04-15 12:00:00  4.171756\n",
       "3 2018-04-15 18:00:00  2.980368\n",
       "4 2018-04-16 00:00:00  1.880864"
      ]
     },
     "execution_count": 89,
     "metadata": {},
     "output_type": "execute_result"
    }
   ],
   "source": [
    "rsme_6hrs.columns = [\"time\", \"rsme\"]\n",
    "rsme_6hrs.head()"
   ]
  },
  {
   "cell_type": "markdown",
   "metadata": {},
   "source": [
    "### Visualizations"
   ]
  },
  {
   "cell_type": "code",
   "execution_count": 75,
   "metadata": {},
   "outputs": [
    {
     "data": {
      "image/png": "[encoded data removed]",
      "text/plain": [
       "<Figure size 1400x600 with 2 Axes>"
      ]
     },
     "metadata": {},
     "output_type": "display_data"
    }
   ],
   "source": [
    "import matplotlib.pyplot as plt\n",
    "import matplotlib.dates as mdates\n",
    "plt.figure(figsize=(14, 6))\n",
    "\n",
    "# Graph 1: Plotting the observed and forecasted values over time\n",
    "plt.subplot(1, 2, 1)\n",
    "plt.plot(df.index, df['y'], label='Temperature Observed', marker='o')\n",
    "plt.plot(df.index, df['pred'], label='Temperature Forecasted', marker='o')\n",
    "plt.xlabel('Time')\n",
    "plt.ylabel('Temperature (K)')\n",
    "plt.title('Observed and Forecasted Temperature Over Time')\n",
    "plt.legend()\n",
    "\n",
    "plt.gca().xaxis.set_major_locator(mdates.HourLocator(interval=18))\n",
    "plt.gca().xaxis.set_major_formatter(mdates.DateFormatter('%Y-%m-%d %H:%M'))\n",
    "\n",
    "\n",
    "\n",
    "# Graph 2: RSME over time\n",
    "plt.subplot(1, 2, 2)\n",
    "plt.plot(df.index, df['error'], label='Root Squared error', marker='o', color='r')\n",
    "plt.xlabel('Time')\n",
    "plt.ylabel('RSME Values')\n",
    "plt.title('Graph of Root Squared Error Over Time')\n",
    "\n",
    "plt.gca().xaxis.set_major_locator(mdates.HourLocator(interval=18))\n",
    "plt.gca().xaxis.set_major_formatter(mdates.DateFormatter('%Y-%m-%d %H:%M'))\n",
    "\n",
    "plt.show()"
   ]
  },
  {
   "cell_type": "markdown",
   "metadata": {},
   "source": [
    "Forecast is able to pick up on the trends but fails to predict the variance."
   ]
  },
  {
   "cell_type": "markdown",
   "metadata": {},
   "source": [
    "### Save Results"
   ]
  },
  {
   "cell_type": "markdown",
   "metadata": {},
   "source": [
    "#### Modify datetime back to int"
   ]
  },
  {
   "cell_type": "code",
   "execution_count": 60,
   "metadata": {},
   "outputs": [
    {
     "data": {
      "text/html": [
       "<div>\n",
       "<style scoped>\n",
       "    .dataframe tbody tr th:only-of-type {\n",
       "        vertical-align: middle;\n",
       "    }\n",
       "\n",
       "    .dataframe tbody tr th {\n",
       "        vertical-align: top;\n",
       "    }\n",
       "\n",
       "    .dataframe thead th {\n",
       "        text-align: right;\n",
       "    }\n",
       "</style>\n",
       "<table border=\"1\" class=\"dataframe\">\n",
       "  <thead>\n",
       "    <tr style=\"text-align: right;\">\n",
       "      <th></th>\n",
       "      <th>index</th>\n",
       "      <th>y</th>\n",
       "      <th>pred</th>\n",
       "      <th>rsme</th>\n",
       "    </tr>\n",
       "  </thead>\n",
       "  <tbody>\n",
       "    <tr>\n",
       "      <th>0</th>\n",
       "      <td>2018-04-15 00:00:00</td>\n",
       "      <td>294.314131</td>\n",
       "      <td>291.942139</td>\n",
       "      <td>2.371992</td>\n",
       "    </tr>\n",
       "    <tr>\n",
       "      <th>1</th>\n",
       "      <td>2018-04-15 01:00:00</td>\n",
       "      <td>293.791735</td>\n",
       "      <td>291.721344</td>\n",
       "      <td>2.070391</td>\n",
       "    </tr>\n",
       "    <tr>\n",
       "      <th>2</th>\n",
       "      <td>2018-04-15 02:00:00</td>\n",
       "      <td>293.343924</td>\n",
       "      <td>291.556061</td>\n",
       "      <td>1.787863</td>\n",
       "    </tr>\n",
       "    <tr>\n",
       "      <th>3</th>\n",
       "      <td>2018-04-15 03:00:00</td>\n",
       "      <td>293.237553</td>\n",
       "      <td>291.436493</td>\n",
       "      <td>1.801060</td>\n",
       "    </tr>\n",
       "    <tr>\n",
       "      <th>4</th>\n",
       "      <td>2018-04-15 04:00:00</td>\n",
       "      <td>293.007996</td>\n",
       "      <td>291.353394</td>\n",
       "      <td>1.654602</td>\n",
       "    </tr>\n",
       "  </tbody>\n",
       "</table>\n",
       "</div>"
      ],
      "text/plain": [
       "                index           y        pred      rsme\n",
       "0 2018-04-15 00:00:00  294.314131  291.942139  2.371992\n",
       "1 2018-04-15 01:00:00  293.791735  291.721344  2.070391\n",
       "2 2018-04-15 02:00:00  293.343924  291.556061  1.787863\n",
       "3 2018-04-15 03:00:00  293.237553  291.436493  1.801060\n",
       "4 2018-04-15 04:00:00  293.007996  291.353394  1.654602"
      ]
     },
     "execution_count": 60,
     "metadata": {},
     "output_type": "execute_result"
    }
   ],
   "source": [
    "df.reset_index(inplace=True)\n",
    "df.head()"
   ]
  },
  {
   "cell_type": "code",
   "execution_count": 61,
   "metadata": {},
   "outputs": [],
   "source": [
    "column_names = [\"time\",\"temperatura\",\"t2m\",\"rsme\"]\n",
    "df.columns = column_names"
   ]
  },
  {
   "cell_type": "code",
   "execution_count": 62,
   "metadata": {},
   "outputs": [],
   "source": [
    "reference_date = pd.to_datetime('2018-04-14 00:00:00')"
   ]
  },
  {
   "cell_type": "code",
   "execution_count": 63,
   "metadata": {},
   "outputs": [],
   "source": [
    "df['time'] = (df['time'] - reference_date) / pd.Timedelta(hours=1)\n",
    "\n",
    "# Convert to float\n",
    "df['time'] = df['time'].astype(float)\n"
   ]
  },
  {
   "cell_type": "code",
   "execution_count": 64,
   "metadata": {},
   "outputs": [
    {
     "data": {
      "text/html": [
       "<div>\n",
       "<style scoped>\n",
       "    .dataframe tbody tr th:only-of-type {\n",
       "        vertical-align: middle;\n",
       "    }\n",
       "\n",
       "    .dataframe tbody tr th {\n",
       "        vertical-align: top;\n",
       "    }\n",
       "\n",
       "    .dataframe thead th {\n",
       "        text-align: right;\n",
       "    }\n",
       "</style>\n",
       "<table border=\"1\" class=\"dataframe\">\n",
       "  <thead>\n",
       "    <tr style=\"text-align: right;\">\n",
       "      <th></th>\n",
       "      <th>time</th>\n",
       "      <th>temperatura</th>\n",
       "      <th>t2m</th>\n",
       "      <th>rsme</th>\n",
       "    </tr>\n",
       "  </thead>\n",
       "  <tbody>\n",
       "    <tr>\n",
       "      <th>0</th>\n",
       "      <td>24.0</td>\n",
       "      <td>294.314131</td>\n",
       "      <td>291.942139</td>\n",
       "      <td>2.371992</td>\n",
       "    </tr>\n",
       "    <tr>\n",
       "      <th>1</th>\n",
       "      <td>25.0</td>\n",
       "      <td>293.791735</td>\n",
       "      <td>291.721344</td>\n",
       "      <td>2.070391</td>\n",
       "    </tr>\n",
       "    <tr>\n",
       "      <th>2</th>\n",
       "      <td>26.0</td>\n",
       "      <td>293.343924</td>\n",
       "      <td>291.556061</td>\n",
       "      <td>1.787863</td>\n",
       "    </tr>\n",
       "    <tr>\n",
       "      <th>3</th>\n",
       "      <td>27.0</td>\n",
       "      <td>293.237553</td>\n",
       "      <td>291.436493</td>\n",
       "      <td>1.801060</td>\n",
       "    </tr>\n",
       "    <tr>\n",
       "      <th>4</th>\n",
       "      <td>28.0</td>\n",
       "      <td>293.007996</td>\n",
       "      <td>291.353394</td>\n",
       "      <td>1.654602</td>\n",
       "    </tr>\n",
       "  </tbody>\n",
       "</table>\n",
       "</div>"
      ],
      "text/plain": [
       "   time  temperatura         t2m      rsme\n",
       "0  24.0   294.314131  291.942139  2.371992\n",
       "1  25.0   293.791735  291.721344  2.070391\n",
       "2  26.0   293.343924  291.556061  1.787863\n",
       "3  27.0   293.237553  291.436493  1.801060\n",
       "4  28.0   293.007996  291.353394  1.654602"
      ]
     },
     "execution_count": 64,
     "metadata": {},
     "output_type": "execute_result"
    }
   ],
   "source": [
    "df.head()"
   ]
  },
  {
   "cell_type": "code",
   "execution_count": 90,
   "metadata": {},
   "outputs": [],
   "source": [
    "rsme_6hrs['time'] = (rsme_6hrs['time'] - reference_date) / pd.Timedelta(hours=1)\n",
    "\n",
    "# Convert to float\n",
    "rsme_6hrs['time'] = rsme_6hrs['time'].astype(float)"
   ]
  },
  {
   "cell_type": "code",
   "execution_count": 91,
   "metadata": {},
   "outputs": [
    {
     "data": {
      "text/html": [
       "<div>\n",
       "<style scoped>\n",
       "    .dataframe tbody tr th:only-of-type {\n",
       "        vertical-align: middle;\n",
       "    }\n",
       "\n",
       "    .dataframe tbody tr th {\n",
       "        vertical-align: top;\n",
       "    }\n",
       "\n",
       "    .dataframe thead th {\n",
       "        text-align: right;\n",
       "    }\n",
       "</style>\n",
       "<table border=\"1\" class=\"dataframe\">\n",
       "  <thead>\n",
       "    <tr style=\"text-align: right;\">\n",
       "      <th></th>\n",
       "      <th>time</th>\n",
       "      <th>rsme</th>\n",
       "    </tr>\n",
       "  </thead>\n",
       "  <tbody>\n",
       "    <tr>\n",
       "      <th>0</th>\n",
       "      <td>24.0</td>\n",
       "      <td>1.866524</td>\n",
       "    </tr>\n",
       "    <tr>\n",
       "      <th>1</th>\n",
       "      <td>30.0</td>\n",
       "      <td>1.013207</td>\n",
       "    </tr>\n",
       "    <tr>\n",
       "      <th>2</th>\n",
       "      <td>36.0</td>\n",
       "      <td>4.171756</td>\n",
       "    </tr>\n",
       "    <tr>\n",
       "      <th>3</th>\n",
       "      <td>42.0</td>\n",
       "      <td>2.980368</td>\n",
       "    </tr>\n",
       "    <tr>\n",
       "      <th>4</th>\n",
       "      <td>48.0</td>\n",
       "      <td>1.880864</td>\n",
       "    </tr>\n",
       "  </tbody>\n",
       "</table>\n",
       "</div>"
      ],
      "text/plain": [
       "   time      rsme\n",
       "0  24.0  1.866524\n",
       "1  30.0  1.013207\n",
       "2  36.0  4.171756\n",
       "3  42.0  2.980368\n",
       "4  48.0  1.880864"
      ]
     },
     "execution_count": 91,
     "metadata": {},
     "output_type": "execute_result"
    }
   ],
   "source": [
    "rsme_6hrs.head()"
   ]
  },
  {
   "cell_type": "markdown",
   "metadata": {},
   "source": [
    "#### Save merged dataframe and error in output.nc file"
   ]
  },
  {
   "cell_type": "code",
   "execution_count": 65,
   "metadata": {},
   "outputs": [],
   "source": [
    "file_path = \"../data/output.nc\"\n",
    "dataset = nc.Dataset(file_path, 'w', format='NETCDF4')\n",
    "\n",
    "for col in df.columns:\n",
    "    dataset.createDimension(col, df[col].shape[0])\n",
    "\n",
    "for col in df.columns:\n",
    "    var = dataset.createVariable(col, df[col].dtype, (col,))\n",
    "    var[:] = df[col].values"
   ]
  },
  {
   "cell_type": "markdown",
   "metadata": {},
   "source": [
    "#### Save rsme for every 6 hours in rsme6hrs.nc file"
   ]
  },
  {
   "cell_type": "code",
   "execution_count": 92,
   "metadata": {},
   "outputs": [],
   "source": [
    "file_path = \"../data/output_6hrs.nc\"\n",
    "dataset = nc.Dataset(file_path, 'w', format='NETCDF4')\n",
    "\n",
    "for col in rsme_6hrs.columns:\n",
    "    dataset.createDimension(col, rsme_6hrs[col].shape[0])\n",
    "\n",
    "for col in rsme_6hrs.columns:\n",
    "    var = dataset.createVariable(col, rsme_6hrs[col].dtype, (col,))\n",
    "    var[:] = rsme_6hrs[col].values"
   ]
  }
 ],
 "metadata": {
  "kernelspec": {
   "display_name": "Python 3 (ipykernel)",
   "language": "python",
   "name": "python3"
  }
 },
 "nbformat": 4,
 "nbformat_minor": 2
}
