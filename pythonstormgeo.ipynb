{
 "cells": [
  {
   "cell_type": "markdown",
   "id": "468afe6a-45fe-4c69-8b34-c3a6de982bcb",
   "metadata": {
    "tags": []
   },
   "source": [
    "# Summary\n",
    "\n",
    "1) Import libraries\n",
    "2) Read data from forecast.nc\n",
    "3) Check if there are missing, invalid, or not written data in forecast.nc file\n",
    "4) Access elements of forecast.nc variables\n",
    "--------------------------------------------\n",
    "5) Read data from observation.nc\n",
    "6) Check if there are missing, invalid, or not written data in observation.nc file\n",
    "7) Access elements of observation.nc variables\n",
    "8) Nan values in temperatura variable\n",
    "9) Convert temperature values from Celsius to Kelvin\n",
    "10) Data from São Paulo \n",
    "--------------------------------------------\n",
    "11) Calculate Root Mean Squared Error (RMSE) of 6-hour time periods\n",
    "--------------------------------------------\n",
    "12) Date and time of forecast and observation datasets\n",
    "13) Plot the heatmap of RMSE matrix values\n",
    "14) Plot the graph of RMSE array values\n",
    "15) Plot the graph of RMSE array values for São Paulo\n",
    "--------------------------------------------\n",
    "16) Save RMSE values in a NetCDF archive"
   ]
  },
  {
   "cell_type": "markdown",
   "id": "88384431-a5ec-4edc-aa21-d97f75bebdb0",
   "metadata": {},
   "source": [
    "## 1) Import libraries"
   ]
  },
  {
   "cell_type": "code",
   "execution_count": 24,
   "id": "3cb88345-ecc2-4db8-b7fc-40fb4ef3aa4b",
   "metadata": {},
   "outputs": [],
   "source": [
    "from netCDF4 import Dataset\n",
    "import numpy as np\n",
    "import seaborn as sns\n",
    "import matplotlib.pyplot as plt\n",
    "import session_info"
   ]
  },
  {
   "cell_type": "markdown",
   "id": "14ca62b1-0a68-4b4b-a59c-0822bee76931",
   "metadata": {},
   "source": [
    "## 2) Read data from forecast.nc"
   ]
  },
  {
   "cell_type": "code",
   "execution_count": 25,
   "id": "7e707c28-be9a-4582-b0de-2ccffbbf5ae9",
   "metadata": {},
   "outputs": [],
   "source": [
    "#Open the forecast NetCDF Dataset object\n",
    "forecast = Dataset(\"forecast.nc\")"
   ]
  },
  {
   "cell_type": "markdown",
   "id": "116669d2-a06c-4713-880f-28958f9c773f",
   "metadata": {},
   "source": [
    "## 3) Check if there are missing, invalid, or not written data in forecast.nc file"
   ]
  },
  {
   "cell_type": "code",
   "execution_count": 26,
   "id": "3e38e5fa-c09f-4057-805c-c74e1e3e1609",
   "metadata": {},
   "outputs": [
    {
     "name": "stdout",
     "output_type": "stream",
     "text": [
      "{'lat': <class 'netCDF4._netCDF4.Variable'>\n",
      "float32 lat(lat)\n",
      "    standard_name: latitude\n",
      "    long_name: latitude\n",
      "    units: degrees_north\n",
      "    grads_dim: Y\n",
      "unlimited dimensions: \n",
      "current shape = (25,)\n",
      "filling on, default _FillValue of 9.969209968386869e+36 used, 'lon': <class 'netCDF4._netCDF4.Variable'>\n",
      "float32 lon(lon)\n",
      "    standard_name: longitude\n",
      "    long_name: longitude\n",
      "    units: degrees_east\n",
      "    grads_dim: x\n",
      "unlimited dimensions: \n",
      "current shape = (37,)\n",
      "filling on, default _FillValue of 9.969209968386869e+36 used, 'time': <class 'netCDF4._netCDF4.Variable'>\n",
      "float32 time(time)\n",
      "    standard_name: time\n",
      "    units: hours since 2018-4-14 00:00:00\n",
      "    calendar: standard\n",
      "    axis: T\n",
      "unlimited dimensions: \n",
      "current shape = (72,)\n",
      "filling on, default _FillValue of 9.969209968386869e+36 used, 't2m': <class 'netCDF4._netCDF4.Variable'>\n",
      "float32 t2m(time, lat, lon)\n",
      "    missing_value: 9.999e+20\n",
      "unlimited dimensions: \n",
      "current shape = (72, 25, 37)\n",
      "filling on, default _FillValue of 9.969209968386869e+36 used}\n"
     ]
    }
   ],
   "source": [
    "forecast_variables = forecast.variables\n",
    "print(forecast_variables)\n",
    "#there is a missing, invalid or not written value in the t2m variable that is filled\n",
    "#with the default fill value: 9.969209968386869e+36"
   ]
  },
  {
   "cell_type": "markdown",
   "id": "c41759c6-be6b-4792-a9a8-28df6b96a334",
   "metadata": {
    "jp-MarkdownHeadingCollapsed": true,
    "tags": []
   },
   "source": [
    "#### 3.1) To indicate that data values are missing, invalid, or not written, special values are conventionally used. NetCDF data may include variable values that are not written, either on purpose or unintentionally. To detect attempts to later read unwritten data, the netCDF library initializes data with the value of a variable's _FillValue attribute (in the case of this forecast dataset) "
   ]
  },
  {
   "cell_type": "markdown",
   "id": "50f61c6c-9b07-462b-af1f-8de62d192638",
   "metadata": {
    "tags": []
   },
   "source": [
    "## 4) Access elements of forecast.nc variables"
   ]
  },
  {
   "cell_type": "code",
   "execution_count": 27,
   "id": "76cc9e6c-9620-4a2c-a76a-d7966f8a48e1",
   "metadata": {},
   "outputs": [],
   "source": [
    "latitude_forecast = forecast.variables['lat'][:] #lat variable\n",
    "longitude_forecast = forecast.variables['lon'][:] #lon variable\n",
    "time_forecast = forecast.variables['time'][:] #time variable"
   ]
  },
  {
   "cell_type": "markdown",
   "id": "b9eb42fd-2c24-4ebd-81d3-34e01d79a128",
   "metadata": {},
   "source": [
    "#### 4.1) Acess only the information of t2m variable"
   ]
  },
  {
   "cell_type": "code",
   "execution_count": 28,
   "id": "c883b65c-5a3c-46e0-8e14-a400437c560f",
   "metadata": {},
   "outputs": [],
   "source": [
    "t2m_forecast = forecast.variables['t2m']"
   ]
  },
  {
   "cell_type": "markdown",
   "id": "2f7ad7a5-f6f1-4657-ba1a-25dc2b8e29b7",
   "metadata": {
    "tags": []
   },
   "source": [
    "#### 4.2) If you try to acess the elements of t2m variable (t2m_forecast = forecast.variables['t2m'][:,:,:]), python will give an error: <font color='red'>missing_value not used since it cannot be safely cast to variable data type</font> "
   ]
  },
  {
   "cell_type": "markdown",
   "id": "d3c89192-0fc6-4d49-84c3-d532953d5e42",
   "metadata": {},
   "source": [
    "#### 4.3) The problem occurs because _FillValue should have the same data type as the variable it describes. The python interface checks for this. If the _FillValue and missing_value don't have the same data type, python interface tries to cast it to that type before using it to create a masked array. The problem is solved by turning off the auto conversion to masked arrays using:"
   ]
  },
  {
   "cell_type": "code",
   "execution_count": 29,
   "id": "b927cbbf-2d5f-4689-8c3d-07b85692e8e9",
   "metadata": {},
   "outputs": [],
   "source": [
    "t2m_forecast.set_auto_mask(False)\n",
    "\n",
    "#now, it is possible to access the elements of the variable\n",
    "t2m_forecast = t2m_forecast[:,:,:]"
   ]
  },
  {
   "cell_type": "markdown",
   "id": "8ec12e51-78b9-4499-a275-57fa5769d3f8",
   "metadata": {},
   "source": [
    "#### 4.4) It is possible to check that the fill value nor the missing value aren't present (not written) in t2m_forecast"
   ]
  },
  {
   "cell_type": "code",
   "execution_count": 30,
   "id": "1892badc-65fb-4ee2-acea-6a69eae7b8cf",
   "metadata": {},
   "outputs": [
    {
     "name": "stdout",
     "output_type": "stream",
     "text": [
      "304.1348\n"
     ]
    }
   ],
   "source": [
    "#looking for the maximum value in t2m_forecast\n",
    "max_t2m = np.max(t2m_forecast)\n",
    "print(max_t2m)"
   ]
  },
  {
   "cell_type": "markdown",
   "id": "e8316985-4bed-4426-8377-d0c81802af5d",
   "metadata": {},
   "source": [
    "## 5) Read data from observation.nc"
   ]
  },
  {
   "cell_type": "code",
   "execution_count": 31,
   "id": "c33fb103-149e-4b76-b0e0-582cc1160b6e",
   "metadata": {},
   "outputs": [],
   "source": [
    "observation = Dataset('observation.nc')"
   ]
  },
  {
   "cell_type": "markdown",
   "id": "0d20c296-fc53-441d-8c8c-4a23808d457b",
   "metadata": {},
   "source": [
    "## 6) Check if there are missing, invalid, or not written data in observation.nc archive"
   ]
  },
  {
   "cell_type": "code",
   "execution_count": 32,
   "id": "088a29e2-1cd9-4b1f-9618-d89c4015e46e",
   "metadata": {},
   "outputs": [
    {
     "name": "stdout",
     "output_type": "stream",
     "text": [
      "{'time': <class 'netCDF4._netCDF4.Variable'>\n",
      "float32 time(time)\n",
      "    standard_name: time\n",
      "    units: hours since 2018-04-13 00:00\n",
      "    calendar: standard\n",
      "    axis: T\n",
      "unlimited dimensions: time\n",
      "current shape = (72,)\n",
      "filling off, 'lon': <class 'netCDF4._netCDF4.Variable'>\n",
      "float32 lon(lon)\n",
      "    standard_name: longitude\n",
      "    long_name: longitude\n",
      "    units: degrees_east\n",
      "    axis: X\n",
      "unlimited dimensions: \n",
      "current shape = (37,)\n",
      "filling off, 'lat': <class 'netCDF4._netCDF4.Variable'>\n",
      "float32 lat(lat)\n",
      "    standard_name: latitude\n",
      "    long_name: latitude\n",
      "    units: degrees_north\n",
      "    axis: Y\n",
      "unlimited dimensions: \n",
      "current shape = (25,)\n",
      "filling off, 'temperatura': <class 'netCDF4._netCDF4.Variable'>\n",
      "float32 temperatura(time, lat, lon)\n",
      "    _FillValue: 9.999e+20\n",
      "    missing_value: 9.999e+20\n",
      "unlimited dimensions: time\n",
      "current shape = (72, 25, 37)\n",
      "filling off}\n"
     ]
    }
   ],
   "source": [
    "observation_variables = observation.variables\n",
    "print(observation_variables)\n",
    "#there is a missing, invalid or not written value in the temperature variable that is filled\n",
    "#with the default fill value: 9.999e+20"
   ]
  },
  {
   "cell_type": "markdown",
   "id": "3f4dda4a-9759-4bdb-b0d3-56c77eab8657",
   "metadata": {},
   "source": [
    "## 7) Access elements of observation.nc variables"
   ]
  },
  {
   "cell_type": "code",
   "execution_count": 33,
   "id": "31a392db-6a29-4ab4-876d-e190aaefed59",
   "metadata": {},
   "outputs": [],
   "source": [
    "latitude_observation = observation.variables['lat'][:] #lat variable\n",
    "longitude_observation = observation.variables['lon'][:] #lon variable\n",
    "time_observation = observation.variables['time'][:] #time variable\n",
    "temperature_observation = observation.variables['temperatura'][:,:,:] #temperatura variable; time is the first dimension"
   ]
  },
  {
   "cell_type": "markdown",
   "id": "e41fc5c3-71e1-4a5e-ad41-9f92f0d4b02e",
   "metadata": {},
   "source": [
    "## 8) Nan values in temperatura variable"
   ]
  },
  {
   "cell_type": "markdown",
   "id": "a21eb6f6-c10c-43df-8fbe-41f11fdd887c",
   "metadata": {},
   "source": [
    "#### 8.1) There are nan values in the temperatura variable (temperature_observation), so it is necessary to replace them before continuing"
   ]
  },
  {
   "cell_type": "code",
   "execution_count": 34,
   "id": "83a0ae9e-54bd-42c4-9db7-eea020e650a3",
   "metadata": {},
   "outputs": [
    {
     "name": "stdout",
     "output_type": "stream",
     "text": [
      "temperature_observations: [[[24.555346 22.20913  19.55323  ... 23.974134 24.205818       nan]\n",
      "  [23.840425 22.546028 21.182674 ... 23.717377 24.124369       nan]\n",
      "  [24.558758 24.092096 22.233204 ... 23.463125 23.867765 24.274193]\n",
      "  ...\n",
      "  [23.366554 23.118279 23.335127 ... 19.998968 19.034348 19.212759]\n",
      "  [23.229092 23.090694 23.18321  ... 19.71424  18.455933 19.171835]\n",
      "  [22.799225 23.16104  22.988428 ... 19.514805 18.255274 19.366264]]\n",
      "\n",
      " [[23.0389   21.056534 18.775661 ... 23.96885  24.088018       nan]\n",
      "  [22.427336 21.402102 20.331194 ... 23.654697 24.104513       nan]\n",
      "  [23.250803 22.956852 21.182058 ... 23.250193 23.770754 24.237524]\n",
      "  ...\n",
      "  [22.315239 22.061996 22.45395  ... 19.178183 18.466454 18.959047]\n",
      "  [22.154556 22.138018 22.50622  ... 18.981682 17.976265 19.02524 ]\n",
      "  [21.689274 22.266026 22.445536 ... 19.017405 17.89095  19.179226]]\n",
      "\n",
      " [[22.343906 20.277494 17.913841 ... 23.996265 24.072655       nan]\n",
      "  [22.035135 20.915142 19.743467 ... 23.776476 24.126013       nan]\n",
      "  [23.162138 22.762518 20.841576 ... 23.462816 23.886011 24.253199]\n",
      "  ...\n",
      "  [21.690039 21.543283 21.937859 ... 18.68862  18.109158 18.528967]\n",
      "  [21.50726  21.595219 21.917984 ... 18.546303 17.673153 18.586145]\n",
      "  [21.033607 21.717821 21.819033 ... 18.69738  17.65333  18.914858]]\n",
      "\n",
      " ...\n",
      "\n",
      " [[22.1651   21.804245 21.159018 ... 23.242376 23.38883        nan]\n",
      "  [21.1013   21.231966 21.87853  ... 22.959482 23.290792       nan]\n",
      "  [21.798988 22.133074 21.45562  ... 22.61922  22.995327 23.33737 ]\n",
      "  ...\n",
      "  [25.717855 25.349943 25.471373 ... 19.85753  19.223642 18.468893]\n",
      "  [25.415424 24.804497 25.212902 ... 20.265314 19.273119 18.70708 ]\n",
      "  [24.730215 24.215496 24.590906 ... 20.569252 19.746174 19.631704]]\n",
      "\n",
      " [[20.864983 20.555113 19.953959 ... 23.04753  23.012321       nan]\n",
      "  [19.79059  20.03081  20.736107 ... 22.819712 23.089334       nan]\n",
      "  [20.47669  20.979984 20.398249 ... 22.538631 22.849897 23.129498]\n",
      "  ...\n",
      "  [24.266624 23.86443  23.978024 ... 19.3909   18.710451 17.99421 ]\n",
      "  [23.969128 23.410042 23.77722  ... 19.718107 18.679354 18.17804 ]\n",
      "  [23.27986  22.92126  23.237013 ... 19.669067 19.021667 19.106825]]\n",
      "\n",
      " [[20.596725 19.856867 18.815603 ... 22.66553  22.478777       nan]\n",
      "  [19.287607 19.183558 19.531748 ... 22.552382 22.692806       nan]\n",
      "  [19.737114 19.983452 19.254025 ... 22.407568 22.572783 22.719149]\n",
      "  ...\n",
      "  [23.212502 22.847034 23.080774 ... 18.968071 18.326773 17.823513]\n",
      "  [22.975115 22.516788 22.9536   ... 19.188316 18.188711 17.953955]\n",
      "  [22.350718 22.17121  22.522942 ... 19.26278  18.466291 18.797155]]]\n"
     ]
    }
   ],
   "source": [
    "print(\"temperature_observations:\", temperature_observation)"
   ]
  },
  {
   "cell_type": "markdown",
   "id": "8d3ab008-d42b-407e-92dc-14394b768511",
   "metadata": {},
   "source": [
    "#### 8.2) I decided to replace nan values with the mean of the temperature values that are not nan"
   ]
  },
  {
   "cell_type": "code",
   "execution_count": 35,
   "id": "57047a93-ac37-46ac-bb79-3fbc30ad39b2",
   "metadata": {},
   "outputs": [
    {
     "name": "stdout",
     "output_type": "stream",
     "text": [
      "mean_temperature_observations: 21.62573\n"
     ]
    }
   ],
   "source": [
    "#calculating the mean of the temperature values that are not nan\n",
    "mean_temperature_observation = np.nanmean(temperature_observation)\n",
    "print(\"mean_temperature_observations:\", mean_temperature_observation) #temperature in celsius\n",
    "\n",
    "#replace nan by the mean of the temperatura variable elements\n",
    "temperature_observation[np.isnan(temperature_observation)] = mean_temperature_observation"
   ]
  },
  {
   "cell_type": "markdown",
   "id": "56f0a01a-f597-4019-ab9d-39fc0debd947",
   "metadata": {
    "tags": []
   },
   "source": [
    "#### 8.3) Now, the temperatura variable (temperature_observation) doesn't have nan values"
   ]
  },
  {
   "cell_type": "code",
   "execution_count": 36,
   "id": "cf6c6a70-6b72-4b91-8c4a-bac87f945680",
   "metadata": {},
   "outputs": [
    {
     "name": "stdout",
     "output_type": "stream",
     "text": [
      "temperature_observations: [[[24.555346 22.20913  19.55323  ... 23.974134 24.205818 21.62573 ]\n",
      "  [23.840425 22.546028 21.182674 ... 23.717377 24.124369 21.62573 ]\n",
      "  [24.558758 24.092096 22.233204 ... 23.463125 23.867765 24.274193]\n",
      "  ...\n",
      "  [23.366554 23.118279 23.335127 ... 19.998968 19.034348 19.212759]\n",
      "  [23.229092 23.090694 23.18321  ... 19.71424  18.455933 19.171835]\n",
      "  [22.799225 23.16104  22.988428 ... 19.514805 18.255274 19.366264]]\n",
      "\n",
      " [[23.0389   21.056534 18.775661 ... 23.96885  24.088018 21.62573 ]\n",
      "  [22.427336 21.402102 20.331194 ... 23.654697 24.104513 21.62573 ]\n",
      "  [23.250803 22.956852 21.182058 ... 23.250193 23.770754 24.237524]\n",
      "  ...\n",
      "  [22.315239 22.061996 22.45395  ... 19.178183 18.466454 18.959047]\n",
      "  [22.154556 22.138018 22.50622  ... 18.981682 17.976265 19.02524 ]\n",
      "  [21.689274 22.266026 22.445536 ... 19.017405 17.89095  19.179226]]\n",
      "\n",
      " [[22.343906 20.277494 17.913841 ... 23.996265 24.072655 21.62573 ]\n",
      "  [22.035135 20.915142 19.743467 ... 23.776476 24.126013 21.62573 ]\n",
      "  [23.162138 22.762518 20.841576 ... 23.462816 23.886011 24.253199]\n",
      "  ...\n",
      "  [21.690039 21.543283 21.937859 ... 18.68862  18.109158 18.528967]\n",
      "  [21.50726  21.595219 21.917984 ... 18.546303 17.673153 18.586145]\n",
      "  [21.033607 21.717821 21.819033 ... 18.69738  17.65333  18.914858]]\n",
      "\n",
      " ...\n",
      "\n",
      " [[22.1651   21.804245 21.159018 ... 23.242376 23.38883  21.62573 ]\n",
      "  [21.1013   21.231966 21.87853  ... 22.959482 23.290792 21.62573 ]\n",
      "  [21.798988 22.133074 21.45562  ... 22.61922  22.995327 23.33737 ]\n",
      "  ...\n",
      "  [25.717855 25.349943 25.471373 ... 19.85753  19.223642 18.468893]\n",
      "  [25.415424 24.804497 25.212902 ... 20.265314 19.273119 18.70708 ]\n",
      "  [24.730215 24.215496 24.590906 ... 20.569252 19.746174 19.631704]]\n",
      "\n",
      " [[20.864983 20.555113 19.953959 ... 23.04753  23.012321 21.62573 ]\n",
      "  [19.79059  20.03081  20.736107 ... 22.819712 23.089334 21.62573 ]\n",
      "  [20.47669  20.979984 20.398249 ... 22.538631 22.849897 23.129498]\n",
      "  ...\n",
      "  [24.266624 23.86443  23.978024 ... 19.3909   18.710451 17.99421 ]\n",
      "  [23.969128 23.410042 23.77722  ... 19.718107 18.679354 18.17804 ]\n",
      "  [23.27986  22.92126  23.237013 ... 19.669067 19.021667 19.106825]]\n",
      "\n",
      " [[20.596725 19.856867 18.815603 ... 22.66553  22.478777 21.62573 ]\n",
      "  [19.287607 19.183558 19.531748 ... 22.552382 22.692806 21.62573 ]\n",
      "  [19.737114 19.983452 19.254025 ... 22.407568 22.572783 22.719149]\n",
      "  ...\n",
      "  [23.212502 22.847034 23.080774 ... 18.968071 18.326773 17.823513]\n",
      "  [22.975115 22.516788 22.9536   ... 19.188316 18.188711 17.953955]\n",
      "  [22.350718 22.17121  22.522942 ... 19.26278  18.466291 18.797155]]]\n"
     ]
    }
   ],
   "source": [
    "print(\"temperature_observations:\", temperature_observation)"
   ]
  },
  {
   "cell_type": "markdown",
   "id": "43033729-e498-43a1-9a55-a005df1081ee",
   "metadata": {},
   "source": [
    "#### 8.4) It is possible to check that the fill value nor the missing value aren't present (not written) in temperature_observation"
   ]
  },
  {
   "cell_type": "code",
   "execution_count": 37,
   "id": "1ad3c925-9149-490e-ac21-4528a792a021",
   "metadata": {},
   "outputs": [
    {
     "name": "stdout",
     "output_type": "stream",
     "text": [
      "31.968285\n"
     ]
    }
   ],
   "source": [
    "#looking for the maximum value in temperature_observation\n",
    "max_temperature = np.max(temperature_observation)\n",
    "print(max_temperature)"
   ]
  },
  {
   "cell_type": "markdown",
   "id": "bfcc030a-0830-4ac2-b88f-8a14aa6e0cac",
   "metadata": {},
   "source": [
    "## 9) Convert temperature from Celsius to Kelvin"
   ]
  },
  {
   "cell_type": "markdown",
   "id": "585e4161-c81d-4384-98a9-bb8fbda329f8",
   "metadata": {},
   "source": [
    "#### 9.1) temperature_observation variable has to be converted from Celsius to Kelvin (SI unit). The reason is that t2m_forecast variable is in Kelvin (K) and temperature_observation variable is in Celsius (C)."
   ]
  },
  {
   "cell_type": "code",
   "execution_count": 38,
   "id": "3b154fa9-1669-4aef-85b6-32a93dffc92f",
   "metadata": {},
   "outputs": [],
   "source": [
    "temperature_observation[:, :, :] = temperature_observation[:,:,:] + 273.15 #Kelvin"
   ]
  },
  {
   "cell_type": "markdown",
   "id": "5d401308-5eaf-4de4-89f7-6b7b04124d8f",
   "metadata": {
    "tags": []
   },
   "source": [
    "## 10) Data from São Paulo "
   ]
  },
  {
   "cell_type": "markdown",
   "id": "4a69cc09-52eb-4e24-a4dc-8e4e2da5b85e",
   "metadata": {},
   "source": [
    "#### 10.1) Data from São Paulo is obtained using the following coordinates: Latitude=8, Longitude=26 "
   ]
  },
  {
   "cell_type": "code",
   "execution_count": 39,
   "id": "ce17cab4-fb0c-4709-86b7-536f503d6f2f",
   "metadata": {
    "tags": []
   },
   "outputs": [
    {
     "name": "stdout",
     "output_type": "stream",
     "text": [
      "São Paulo latitude coordinate (observation): -23.52493\n",
      "São Paulo latitude coordinate (forecast): -23.524933\n",
      "São Paulo longitude coordinate (observation): -46.6783\n",
      "São Paulo latitude coordinate (forecast): -46.6783\n"
     ]
    }
   ],
   "source": [
    "#create an array for latitude and longitude of sao paulo that covers the observation and forecast datas\n",
    "temperature_observation_sp = temperature_observation[:, 8, 26] #time, latitude, longitude\n",
    "t2m_forecast_sp = t2m_forecast[:, 8, 26] #time, latitude, longitude\n",
    "print(\"São Paulo latitude coordinate (observation):\", latitude_observation[8])\n",
    "print(\"São Paulo latitude coordinate (forecast):\", latitude_forecast[8])\n",
    "print(\"São Paulo longitude coordinate (observation):\",longitude_observation[26])\n",
    "print(\"São Paulo latitude coordinate (forecast):\", longitude_forecast[26])"
   ]
  },
  {
   "cell_type": "markdown",
   "id": "d0d6b089-aeef-4a50-aedd-561f08f218ce",
   "metadata": {},
   "source": [
    "## 11) Calculate Root Mean Squared Error (RMSE) of 6-hour time periods\n",
    "\n",
    "$\\text{RMSE}(f, o) = \\sqrt{\\bar{(f - o)^2}}$"
   ]
  },
  {
   "cell_type": "markdown",
   "id": "1f8526c1-d7f1-4910-9bfe-fbf438dca848",
   "metadata": {},
   "source": [
    "#### 11.1) I computed two sets of values for the RMSE. The first (RMSE_matrix), computes the mean value only in the time dimension. That is, there is are RMSE values for each latitude and longitude pair, for each time interval of 6 hours. The second (RMSE_array and RMSE_sp_array), computes the mean in all dimensions. That is, there is only one RMSE value for each 6 hour interval. This approach allows vizualization of the data both in terms of location (first set) and only terms of the time interval (second set)"
   ]
  },
  {
   "cell_type": "code",
   "execution_count": 40,
   "id": "35bdc2af-568d-433b-9ffa-2836ca42e1fb",
   "metadata": {},
   "outputs": [],
   "source": [
    "RMSE_matrix = np.zeros((12,25,37))\n",
    "RMSE_array = []\n",
    "RMSE_sp_array = []\n",
    "len_time_forecast = len(time_forecast) \n",
    "i = 0\n",
    "timee = 0\n",
    "\n",
    "for i in range(int(len_time_forecast/6)):\n",
    "    \n",
    "    #calculating RMSE in a 6-hour-interval that results in a matrix\n",
    "    RMSE_matrix[i-1,:,:] = np.sqrt(np.mean((t2m_forecast[timee:timee+6,:,:] - temperature_observation[timee:timee+6,:,:])**2, axis = 0)) #axis = 0 is fixed. Axis=1 and axis = 2 vary \n",
    "    \n",
    "    #calculating RMSE in 6-hour-interval that results in an array\n",
    "    RMSE_array.append(np.sqrt(np.mean((t2m_forecast[timee:timee+6,:,:] - temperature_observation[timee:timee+6,:,:])**2)))\n",
    "    \n",
    "    #calculating RMSE in a 6-hour-interval for São Paulo (X=26 and Y=8) that results in an array\n",
    "    RMSE_sp_array.append(np.sqrt(np.mean((t2m_forecast[timee:timee+6, 8, 26] - temperature_observation[timee:timee+6, 8, 26])**2)))\n",
    "    \n",
    "    timee = timee + 6 "
   ]
  },
  {
   "cell_type": "markdown",
   "id": "bfcea825-0f0f-4de1-beb9-6ab94f01d6b4",
   "metadata": {},
   "source": [
    "## 12) Date and time of forecast and observation datasets"
   ]
  },
  {
   "cell_type": "markdown",
   "id": "e7d4e469-69bc-4e05-a3a7-8f00e2770233",
   "metadata": {},
   "source": [
    "#### 12.1) It is possible to see, by means of analysing the datasets information, that this data corresponds to: since 04/14/2018 (forecast) and since 04/13/2018 (observation). It will be taken into consideration the following day/month/year: since 04/14/2018"
   ]
  },
  {
   "cell_type": "code",
   "execution_count": 41,
   "id": "28cd563b-3015-441b-9e75-ebe5c8f91b75",
   "metadata": {},
   "outputs": [
    {
     "name": "stdout",
     "output_type": "stream",
     "text": [
      "hours since 2018-4-14 00:00:00\n",
      "hours since 2018-04-13 00:00\n"
     ]
    }
   ],
   "source": [
    "print(forecast_variables['time'].units)\n",
    "print(observation_variables['time'].units)\n",
    "\n",
    "#defining the date/month/year and the time period analysed\n",
    "date_time = [\"04/14/2018, 12am-6am\", \"04/14/2018, 6am-12pm\", \"04/14/2018, 12pm-18pm\", \"04/14/2018, 18pm-00am\",\n",
    "            \"04/15/2018, 00am-6pm\", \"04/15/2018, 6pm-12pm\", \"04/15/2018, 12pm-18pm\", \"04/15/2018, 18pm-00am\",\n",
    "            \"04/16/2018, 00am-6am\", \"04/16/2018, 6am-12pm\", \"04/16/2018, 12pm-18pm\", \"04/16/2018, 18pm-00am\"]"
   ]
  },
  {
   "cell_type": "markdown",
   "id": "ddf8a9a4-e946-46eb-a50f-d1b53a7c66cc",
   "metadata": {},
   "source": [
    "## 13) Plot the heatmap of RMSE matrix values"
   ]
  },
  {
   "cell_type": "markdown",
   "id": "16d40137-d4e5-41d2-a3fc-6c1aa3f01b5a",
   "metadata": {},
   "source": [
    "#### 13.1) Use Seaborn library to plot the heatmap of RMSE matrix values (RMSE of each 6-hour time period)"
   ]
  },
  {
   "cell_type": "code",
   "execution_count": null,
   "id": "b7498e26-8270-4427-880a-e0c4d3a4b392",
   "metadata": {},
   "outputs": [],
   "source": [
    "#defining figure size\n",
    "fig = plt.figure(figsize = (110,110)) #figsize = (width,height)\n",
    "\n",
    "#plotting the heatmap of the 6-hour time periods RMSE\n",
    "for i in range(12):\n",
    "    \n",
    "    #defining subplot dimension\n",
    "    plt.subplot(4,3,i+1)\n",
    "    ax = sns.heatmap(data=RMSE_matrix[i])#, cbar_kws={'label': 'Root Mean Square Error [K]'})\n",
    "    \n",
    "    sns.set(font_scale=5)\n",
    "    \n",
    "    cbar = ax.collections[0].colorbar\n",
    "    cbar.set_label('Root Mean Square Error [K]', labelpad=40)\n",
    "    \n",
    "    plt.xlabel('Longitude Index', labelpad=22)\n",
    "    plt.ylabel(\"Latitude Index\", labelpad=22)\n",
    "    plt.title(date_time[i], pad=50)\n",
    "                \n",
    "    \n",
    "fig.suptitle('RMSE of 6-Hour Time Periods [mm/dd/yyyy, hh-hh]', fontsize = 100, fontweight = 'extra bold')\n",
    "\n",
    "#save plot\n",
    "plt.savefig('RMSE_matrix.png',  bbox_inches = 'tight')"
   ]
  },
  {
   "cell_type": "markdown",
   "id": "70d94e28-a59b-4000-8941-ef731e7e37b9",
   "metadata": {},
   "source": [
    "## 14) Plot the graph of RMSE array values"
   ]
  },
  {
   "cell_type": "markdown",
   "id": "c9cb1cd5-0d6a-42a5-8dc5-9c58f28d5a41",
   "metadata": {},
   "source": [
    "#### 14.1)  Use Matplotlib library to plot the graph of RMSE array values (RMSE of 6-hour time periods)"
   ]
  },
  {
   "cell_type": "code",
   "execution_count": null,
   "id": "b29f326a-536d-46c7-aa7a-533e0a776e89",
   "metadata": {},
   "outputs": [],
   "source": [
    "#horizontal bar plot\n",
    "fig = plt.barh(date_time, RMSE_array, color='deepskyblue')\n",
    "\n",
    "#show the value of each bar\n",
    "for i in range(len(RMSE_array)):\n",
    "    plt.text(RMSE_array[i], i-0.1, str(round(RMSE_array[i], 2)), fontsize=12)\n",
    "    \n",
    "#adjust xticks and yticks\n",
    "plt.xticks(rotation=70, fontsize=12)\n",
    "plt.yticks(fontsize=12)\n",
    "\n",
    "#label x-axis\n",
    "plt.xlabel('Time Period [mm/dd/yyyy, hh-hh]', fontsize = 15)\n",
    "\n",
    "#label y-axis\n",
    "plt.ylabel('RMSE [K]', fontsize = 15)\n",
    "\n",
    "#label the plot\n",
    "plt.title('RMSE of 6-Hour Time Periods', fontsize = 20, fontweight = 'extra bold')\n",
    "\n",
    "#save the plot\n",
    "plt.savefig('RMSE_array.png',  bbox_inches = 'tight')"
   ]
  },
  {
   "cell_type": "markdown",
   "id": "e8cf2748-a8be-4092-85e3-fa591c420914",
   "metadata": {},
   "source": [
    "## 15) Plot the graph of RMSE array values for São Paulo"
   ]
  },
  {
   "cell_type": "markdown",
   "id": "d49b300b-69cd-4c62-ac6f-ec961b937f85",
   "metadata": {},
   "source": [
    "#### 15.1) Use Matplotlib library to plot the graph of RMSE array values (RMSE of 6-hour time periods) for São Paulo "
   ]
  },
  {
   "cell_type": "code",
   "execution_count": null,
   "id": "418e2803-02db-437d-a570-8d8b375a6be9",
   "metadata": {},
   "outputs": [],
   "source": [
    "#defining figure size\n",
    "plt.figure(figsize = (12,8)) #figsize = (width,height)\n",
    "\n",
    "#bar plot \n",
    "plt.bar(date_time, RMSE_sp_array, color='darkorange', width=1)\n",
    "plt.plot(RMSE_sp_array, color='lime', linewidth=4)\n",
    "\n",
    "#adjust xticks and yticks\n",
    "plt.xticks(rotation=70, fontsize=18)\n",
    "plt.yticks(fontsize=18)\n",
    "\n",
    "#label x-axis\n",
    "plt.xlabel('Time Period [mm/dd/yyyy, hh-hh]', fontsize = 20)\n",
    "\n",
    "#label y-axis\n",
    "plt.ylabel('RMSE [K]', fontsize = 20)\n",
    "\n",
    "#label the plot\n",
    "plt.title('RMSE of 6-Hour Time Periods for São Paulo', fontsize = 25, fontweight = 'extra bold')\n",
    "\n",
    "#save the plot\n",
    "plt.savefig('RMSE_sp_array.png', bbox_inches = 'tight')"
   ]
  },
  {
   "cell_type": "markdown",
   "id": "23158d5a-eb87-4cff-94d6-60f2261ca3c5",
   "metadata": {},
   "source": [
    "## 16) Save RMSE values in a NetCDF archive"
   ]
  },
  {
   "cell_type": "code",
   "execution_count": null,
   "id": "241373a9-0584-44f2-a320-f0bc9da47adc",
   "metadata": {},
   "outputs": [],
   "source": [
    "rmsefile = Dataset('rmsefile.nc', mode='w',format='NETCDF4_CLASSIC')\n",
    "\n",
    "#create the dimensions of RMSE variables\n",
    "RMSE_matrix_dimension1 = rmsefile.createDimension(\"RMSE Matrix Time\", 12)\n",
    "RMSE_matrix_dimension2 = rmsefile.createDimension(\"RMSE Matrix Latitude\", 25)\n",
    "RMSE_matrix_dimension3 = rmsefile.createDimension(\"RMSE Matrix Longitude\", 37)\n",
    "RMSE_array_dimension = rmsefile.createDimension(\"RMSE Array\", len(RMSE_array))\n",
    "RMSE_sp_array_dimension = rmsefile.createDimension(\"RMSE SP Array\", len(RMSE_sp_array))\n",
    "\n",
    "#create the variables\n",
    "RMSE_matrix_variable1 = rmsefile.createVariable(\"RMSE Matrix Time\", np.float32, (\"RMSE Matrix Time\",))\n",
    "RMSE_matrix_variable2 = rmsefile.createVariable(\"RMSE Matrix Latitude\", np.float32, (\"RMSE Matrix Latitude\",))\n",
    "RMSE_matrix_variable3 = rmsefile.createVariable(\"RMSE Matrix Longitude\", np.float32, (\"RMSE Matrix Longitude\",))\n",
    "RMSE_array_variable = rmsefile.createVariable(\"RMSE Array\", np.float32, (\"RMSE Array\",))\n",
    "RMSE_sp_array_variable = rmsefile.createVariable(\"RMSE SP Array\", np.float32, (\"RMSE SP Array\",))\n",
    "\n",
    "#define the unit of RMSE variables\n",
    "RMSE_matrix_variable1.units = 'Kelvin [K]'\n",
    "RMSE_matrix_variable2.units = 'Kelvin [K]'\n",
    "RMSE_matrix_variable3.units = 'Kelvin [K]'\n",
    "RMSE_array_variable.units = 'Kelvin [K]' \n",
    "RMSE_sp_array_variable.units = 'Kelvin [K]'\n",
    "\n",
    "#define the long name of RMSE variables\n",
    "RMSE_matrix_variable1.longname = 'Root Mean Squared Error Matrix Time Dimension'\n",
    "RMSE_matrix_variable2.longname = 'Root Mean Squared Error Matrix Latitude Dimension'\n",
    "RMSE_matrix_variable3.longname = 'Root Mean Squared Error Matrix Longitude Dimension'\n",
    "RMSE_array_variable.longname = 'Root Mean Squared Error Array'\n",
    "RMSE_sp_array_variable.longname = 'Root Mean Squared Error Array for São Paulo'\n",
    " \n",
    "#pass the array of the calculated RMSEs to the variables created\n",
    "RMSE_matrix_variable1 = RMSE_matrix[0]\n",
    "RMSE_matrix_variable2 = RMSE_matrix[1]\n",
    "RMSE_matrix_variable3 = RMSE_matrix[2]\n",
    "RMSE_array_variable = RMSE_array\n",
    "RMSE_sp_array_variable = RMSE_sp_array\n",
    "rmsefile.close()\n",
    "\n",
    "rmse = Dataset(\"rmsefile.nc\")\n",
    "rmse_variables = rmse.variables\n",
    "print(rmse_variables)\n",
    "\n",
    "\n",
    "#close the dataset\n",
    "rmsefile.close()"
   ]
  },
  {
   "cell_type": "code",
   "execution_count": null,
   "id": "4d0330d1-4b30-4d0d-a42a-39fc809ce487",
   "metadata": {},
   "outputs": [],
   "source": []
  }
 ],
 "metadata": {
  "kernelspec": {
   "display_name": "Python 3 (ipykernel)",
   "language": "python",
   "name": "python3"
  },
  "language_info": {
   "codemirror_mode": {
    "name": "ipython",
    "version": 3
   },
   "file_extension": ".py",
   "mimetype": "text/x-python",
   "name": "python",
   "nbconvert_exporter": "python",
   "pygments_lexer": "ipython3",
   "version": "3.10.11"
  }
 },
 "nbformat": 4,
 "nbformat_minor": 5
}
